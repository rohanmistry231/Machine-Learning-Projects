{
  "cells": [
    {
      "cell_type": "markdown",
      "metadata": {
        "id": "HEItIK33hRBD"
      },
      "source": [
        "**Importing the dependencies**"
      ]
    },
    {
      "cell_type": "code",
      "execution_count": 1,
      "metadata": {
        "id": "Lm6EE3X8iSAz"
      },
      "outputs": [],
      "source": [
        "import numpy as np\n",
        "import pandas as pd\n",
        "import matplotlib.pyplot as plt\n",
        "import seaborn as sns\n",
        "from sklearn.utils import resample\n",
        "from sklearn.model_selection import train_test_split, GridSearchCV, cross_val_score\n",
        "from sklearn.ensemble import RandomForestClassifier\n",
        "from sklearn.metrics import classification_report, confusion_matrix, accuracy_score\n",
        "import pickle"
      ]
    },
    {
      "cell_type": "markdown",
      "metadata": {
        "id": "uAKV5UtHkAcj"
      },
      "source": [
        "**Data Collection and Processing**"
      ]
    },
    {
      "cell_type": "code",
      "execution_count": 2,
      "metadata": {
        "id": "QQVgaeE3jIEd"
      },
      "outputs": [],
      "source": [
        "# laod the dataset to a pandas dataframe\n",
        "data = pd.read_csv(\"Rainfall.csv\")"
      ]
    },
    {
      "cell_type": "code",
      "execution_count": 3,
      "metadata": {
        "colab": {
          "base_uri": "https://localhost:8080/"
        },
        "id": "X09thXyakP0C",
        "outputId": "8d2eed14-0c28-4d69-8083-b4c3021dd9be"
      },
      "outputs": [
        {
          "name": "stdout",
          "output_type": "stream",
          "text": [
            "<class 'pandas.core.frame.DataFrame'>\n"
          ]
        }
      ],
      "source": [
        "print(type(data))"
      ]
    },
    {
      "cell_type": "code",
      "execution_count": 4,
      "metadata": {
        "colab": {
          "base_uri": "https://localhost:8080/"
        },
        "id": "ZIiIWhW_kSJu",
        "outputId": "307ec7a6-0ac4-4760-a75f-61d742743bce"
      },
      "outputs": [
        {
          "data": {
            "text/plain": [
              "(366, 12)"
            ]
          },
          "execution_count": 4,
          "metadata": {},
          "output_type": "execute_result"
        }
      ],
      "source": [
        "data.shape"
      ]
    },
    {
      "cell_type": "code",
      "execution_count": 5,
      "metadata": {
        "colab": {
          "base_uri": "https://localhost:8080/",
          "height": 206
        },
        "id": "2hfNHtXPkU4_",
        "outputId": "f00f8c8b-f40a-4120-df21-4ccccc7c0952"
      },
      "outputs": [
        {
          "data": {
            "text/html": [
              "<div>\n",
              "<style scoped>\n",
              "    .dataframe tbody tr th:only-of-type {\n",
              "        vertical-align: middle;\n",
              "    }\n",
              "\n",
              "    .dataframe tbody tr th {\n",
              "        vertical-align: top;\n",
              "    }\n",
              "\n",
              "    .dataframe thead th {\n",
              "        text-align: right;\n",
              "    }\n",
              "</style>\n",
              "<table border=\"1\" class=\"dataframe\">\n",
              "  <thead>\n",
              "    <tr style=\"text-align: right;\">\n",
              "      <th></th>\n",
              "      <th>day</th>\n",
              "      <th>pressure</th>\n",
              "      <th>maxtemp</th>\n",
              "      <th>temparature</th>\n",
              "      <th>mintemp</th>\n",
              "      <th>dewpoint</th>\n",
              "      <th>humidity</th>\n",
              "      <th>cloud</th>\n",
              "      <th>rainfall</th>\n",
              "      <th>sunshine</th>\n",
              "      <th>winddirection</th>\n",
              "      <th>windspeed</th>\n",
              "    </tr>\n",
              "  </thead>\n",
              "  <tbody>\n",
              "    <tr>\n",
              "      <th>0</th>\n",
              "      <td>1</td>\n",
              "      <td>1025.9</td>\n",
              "      <td>19.9</td>\n",
              "      <td>18.3</td>\n",
              "      <td>16.8</td>\n",
              "      <td>13.1</td>\n",
              "      <td>72</td>\n",
              "      <td>49</td>\n",
              "      <td>yes</td>\n",
              "      <td>9.3</td>\n",
              "      <td>80.0</td>\n",
              "      <td>26.3</td>\n",
              "    </tr>\n",
              "    <tr>\n",
              "      <th>1</th>\n",
              "      <td>2</td>\n",
              "      <td>1022.0</td>\n",
              "      <td>21.7</td>\n",
              "      <td>18.9</td>\n",
              "      <td>17.2</td>\n",
              "      <td>15.6</td>\n",
              "      <td>81</td>\n",
              "      <td>83</td>\n",
              "      <td>yes</td>\n",
              "      <td>0.6</td>\n",
              "      <td>50.0</td>\n",
              "      <td>15.3</td>\n",
              "    </tr>\n",
              "    <tr>\n",
              "      <th>2</th>\n",
              "      <td>3</td>\n",
              "      <td>1019.7</td>\n",
              "      <td>20.3</td>\n",
              "      <td>19.3</td>\n",
              "      <td>18.0</td>\n",
              "      <td>18.4</td>\n",
              "      <td>95</td>\n",
              "      <td>91</td>\n",
              "      <td>yes</td>\n",
              "      <td>0.0</td>\n",
              "      <td>40.0</td>\n",
              "      <td>14.2</td>\n",
              "    </tr>\n",
              "    <tr>\n",
              "      <th>3</th>\n",
              "      <td>4</td>\n",
              "      <td>1018.9</td>\n",
              "      <td>22.3</td>\n",
              "      <td>20.6</td>\n",
              "      <td>19.1</td>\n",
              "      <td>18.8</td>\n",
              "      <td>90</td>\n",
              "      <td>88</td>\n",
              "      <td>yes</td>\n",
              "      <td>1.0</td>\n",
              "      <td>50.0</td>\n",
              "      <td>16.9</td>\n",
              "    </tr>\n",
              "    <tr>\n",
              "      <th>4</th>\n",
              "      <td>5</td>\n",
              "      <td>1015.9</td>\n",
              "      <td>21.3</td>\n",
              "      <td>20.7</td>\n",
              "      <td>20.2</td>\n",
              "      <td>19.9</td>\n",
              "      <td>95</td>\n",
              "      <td>81</td>\n",
              "      <td>yes</td>\n",
              "      <td>0.0</td>\n",
              "      <td>40.0</td>\n",
              "      <td>13.7</td>\n",
              "    </tr>\n",
              "  </tbody>\n",
              "</table>\n",
              "</div>"
            ],
            "text/plain": [
              "   day  pressure   maxtemp  temparature  mintemp  dewpoint  humidity   cloud   \\\n",
              "0    1     1025.9     19.9         18.3     16.8      13.1         72      49   \n",
              "1    2     1022.0     21.7         18.9     17.2      15.6         81      83   \n",
              "2    3     1019.7     20.3         19.3     18.0      18.4         95      91   \n",
              "3    4     1018.9     22.3         20.6     19.1      18.8         90      88   \n",
              "4    5     1015.9     21.3         20.7     20.2      19.9         95      81   \n",
              "\n",
              "  rainfall  sunshine           winddirection  windspeed  \n",
              "0      yes       9.3                    80.0       26.3  \n",
              "1      yes       0.6                    50.0       15.3  \n",
              "2      yes       0.0                    40.0       14.2  \n",
              "3      yes       1.0                    50.0       16.9  \n",
              "4      yes       0.0                    40.0       13.7  "
            ]
          },
          "execution_count": 5,
          "metadata": {},
          "output_type": "execute_result"
        }
      ],
      "source": [
        "data.head()"
      ]
    },
    {
      "cell_type": "code",
      "execution_count": 6,
      "metadata": {
        "colab": {
          "base_uri": "https://localhost:8080/",
          "height": 206
        },
        "id": "VU3q7vaHkZzT",
        "outputId": "e69c4b94-cd8a-4780-b1c7-7a9d783cd92e"
      },
      "outputs": [
        {
          "data": {
            "text/html": [
              "<div>\n",
              "<style scoped>\n",
              "    .dataframe tbody tr th:only-of-type {\n",
              "        vertical-align: middle;\n",
              "    }\n",
              "\n",
              "    .dataframe tbody tr th {\n",
              "        vertical-align: top;\n",
              "    }\n",
              "\n",
              "    .dataframe thead th {\n",
              "        text-align: right;\n",
              "    }\n",
              "</style>\n",
              "<table border=\"1\" class=\"dataframe\">\n",
              "  <thead>\n",
              "    <tr style=\"text-align: right;\">\n",
              "      <th></th>\n",
              "      <th>day</th>\n",
              "      <th>pressure</th>\n",
              "      <th>maxtemp</th>\n",
              "      <th>temparature</th>\n",
              "      <th>mintemp</th>\n",
              "      <th>dewpoint</th>\n",
              "      <th>humidity</th>\n",
              "      <th>cloud</th>\n",
              "      <th>rainfall</th>\n",
              "      <th>sunshine</th>\n",
              "      <th>winddirection</th>\n",
              "      <th>windspeed</th>\n",
              "    </tr>\n",
              "  </thead>\n",
              "  <tbody>\n",
              "    <tr>\n",
              "      <th>361</th>\n",
              "      <td>27</td>\n",
              "      <td>1022.7</td>\n",
              "      <td>18.8</td>\n",
              "      <td>17.7</td>\n",
              "      <td>16.9</td>\n",
              "      <td>15.0</td>\n",
              "      <td>84</td>\n",
              "      <td>90</td>\n",
              "      <td>yes</td>\n",
              "      <td>0.0</td>\n",
              "      <td>30.0</td>\n",
              "      <td>18.4</td>\n",
              "    </tr>\n",
              "    <tr>\n",
              "      <th>362</th>\n",
              "      <td>28</td>\n",
              "      <td>1026.6</td>\n",
              "      <td>18.6</td>\n",
              "      <td>17.3</td>\n",
              "      <td>16.3</td>\n",
              "      <td>12.8</td>\n",
              "      <td>75</td>\n",
              "      <td>85</td>\n",
              "      <td>yes</td>\n",
              "      <td>1.0</td>\n",
              "      <td>20.0</td>\n",
              "      <td>25.9</td>\n",
              "    </tr>\n",
              "    <tr>\n",
              "      <th>363</th>\n",
              "      <td>29</td>\n",
              "      <td>1025.9</td>\n",
              "      <td>18.9</td>\n",
              "      <td>17.7</td>\n",
              "      <td>16.4</td>\n",
              "      <td>13.3</td>\n",
              "      <td>75</td>\n",
              "      <td>78</td>\n",
              "      <td>yes</td>\n",
              "      <td>4.6</td>\n",
              "      <td>70.0</td>\n",
              "      <td>33.4</td>\n",
              "    </tr>\n",
              "    <tr>\n",
              "      <th>364</th>\n",
              "      <td>30</td>\n",
              "      <td>1025.3</td>\n",
              "      <td>19.2</td>\n",
              "      <td>17.3</td>\n",
              "      <td>15.2</td>\n",
              "      <td>13.3</td>\n",
              "      <td>78</td>\n",
              "      <td>86</td>\n",
              "      <td>yes</td>\n",
              "      <td>1.2</td>\n",
              "      <td>20.0</td>\n",
              "      <td>20.9</td>\n",
              "    </tr>\n",
              "    <tr>\n",
              "      <th>365</th>\n",
              "      <td>31</td>\n",
              "      <td>1026.4</td>\n",
              "      <td>20.5</td>\n",
              "      <td>17.8</td>\n",
              "      <td>15.5</td>\n",
              "      <td>13.0</td>\n",
              "      <td>74</td>\n",
              "      <td>66</td>\n",
              "      <td>no</td>\n",
              "      <td>5.7</td>\n",
              "      <td>20.0</td>\n",
              "      <td>23.3</td>\n",
              "    </tr>\n",
              "  </tbody>\n",
              "</table>\n",
              "</div>"
            ],
            "text/plain": [
              "     day  pressure   maxtemp  temparature  mintemp  dewpoint  humidity   \\\n",
              "361   27     1022.7     18.8         17.7     16.9      15.0         84   \n",
              "362   28     1026.6     18.6         17.3     16.3      12.8         75   \n",
              "363   29     1025.9     18.9         17.7     16.4      13.3         75   \n",
              "364   30     1025.3     19.2         17.3     15.2      13.3         78   \n",
              "365   31     1026.4     20.5         17.8     15.5      13.0         74   \n",
              "\n",
              "     cloud  rainfall  sunshine           winddirection  windspeed  \n",
              "361      90      yes       0.0                    30.0       18.4  \n",
              "362      85      yes       1.0                    20.0       25.9  \n",
              "363      78      yes       4.6                    70.0       33.4  \n",
              "364      86      yes       1.2                    20.0       20.9  \n",
              "365      66       no       5.7                    20.0       23.3  "
            ]
          },
          "execution_count": 6,
          "metadata": {},
          "output_type": "execute_result"
        }
      ],
      "source": [
        "data.tail()"
      ]
    },
    {
      "cell_type": "code",
      "execution_count": 7,
      "metadata": {
        "colab": {
          "base_uri": "https://localhost:8080/"
        },
        "id": "j6GR2_gYkjfV",
        "outputId": "9b73f68f-ff73-46b8-a606-36028820f004"
      },
      "outputs": [
        {
          "data": {
            "text/plain": [
              "array([ 1,  2,  3,  4,  5,  6,  7,  8,  9, 10, 11, 12, 13, 14, 15, 16, 17,\n",
              "       18, 19, 20, 21, 22, 23, 24, 25, 26, 27, 28, 29, 30, 31],\n",
              "      dtype=int64)"
            ]
          },
          "execution_count": 7,
          "metadata": {},
          "output_type": "execute_result"
        }
      ],
      "source": [
        "data[\"day\"].unique()"
      ]
    },
    {
      "cell_type": "code",
      "execution_count": 8,
      "metadata": {
        "colab": {
          "base_uri": "https://localhost:8080/"
        },
        "id": "41AvZH5ykvjJ",
        "outputId": "35e72988-6464-4c0d-b750-63be3db8e1c0"
      },
      "outputs": [
        {
          "name": "stdout",
          "output_type": "stream",
          "text": [
            "Data Info:\n",
            "<class 'pandas.core.frame.DataFrame'>\n",
            "RangeIndex: 366 entries, 0 to 365\n",
            "Data columns (total 12 columns):\n",
            " #   Column                  Non-Null Count  Dtype  \n",
            "---  ------                  --------------  -----  \n",
            " 0   day                     366 non-null    int64  \n",
            " 1   pressure                366 non-null    float64\n",
            " 2   maxtemp                 366 non-null    float64\n",
            " 3   temparature             366 non-null    float64\n",
            " 4   mintemp                 366 non-null    float64\n",
            " 5   dewpoint                366 non-null    float64\n",
            " 6   humidity                366 non-null    int64  \n",
            " 7   cloud                   366 non-null    int64  \n",
            " 8   rainfall                366 non-null    object \n",
            " 9   sunshine                366 non-null    float64\n",
            " 10           winddirection  365 non-null    float64\n",
            " 11  windspeed               365 non-null    float64\n",
            "dtypes: float64(8), int64(3), object(1)\n",
            "memory usage: 34.4+ KB\n"
          ]
        }
      ],
      "source": [
        "print(\"Data Info:\")\n",
        "data.info()"
      ]
    },
    {
      "cell_type": "code",
      "execution_count": 9,
      "metadata": {
        "colab": {
          "base_uri": "https://localhost:8080/"
        },
        "id": "NaKQzgywlp6R",
        "outputId": "288f3028-4100-4b1a-bb47-d71ea31edd2e"
      },
      "outputs": [
        {
          "data": {
            "text/plain": [
              "Index(['day', 'pressure ', 'maxtemp', 'temparature', 'mintemp', 'dewpoint',\n",
              "       'humidity ', 'cloud ', 'rainfall', 'sunshine', '         winddirection',\n",
              "       'windspeed'],\n",
              "      dtype='object')"
            ]
          },
          "execution_count": 9,
          "metadata": {},
          "output_type": "execute_result"
        }
      ],
      "source": [
        "data.columns"
      ]
    },
    {
      "cell_type": "code",
      "execution_count": 10,
      "metadata": {
        "id": "UVEv2BKClLZY"
      },
      "outputs": [],
      "source": [
        "# remove extra  spaces in all columns\n",
        "data.columns = data.columns.str.strip()"
      ]
    },
    {
      "cell_type": "code",
      "execution_count": 11,
      "metadata": {
        "colab": {
          "base_uri": "https://localhost:8080/"
        },
        "id": "KLf3gNYElwjw",
        "outputId": "c051ea10-d235-4cb2-b71f-9719d16089ec"
      },
      "outputs": [
        {
          "data": {
            "text/plain": [
              "Index(['day', 'pressure', 'maxtemp', 'temparature', 'mintemp', 'dewpoint',\n",
              "       'humidity', 'cloud', 'rainfall', 'sunshine', 'winddirection',\n",
              "       'windspeed'],\n",
              "      dtype='object')"
            ]
          },
          "execution_count": 11,
          "metadata": {},
          "output_type": "execute_result"
        }
      ],
      "source": [
        "data.columns"
      ]
    },
    {
      "cell_type": "code",
      "execution_count": 12,
      "metadata": {
        "colab": {
          "base_uri": "https://localhost:8080/"
        },
        "id": "LvEjl4K7lzLJ",
        "outputId": "268bd8a7-9309-4492-e6ee-8bd119f8af88"
      },
      "outputs": [
        {
          "name": "stdout",
          "output_type": "stream",
          "text": [
            "Data Info:\n",
            "<class 'pandas.core.frame.DataFrame'>\n",
            "RangeIndex: 366 entries, 0 to 365\n",
            "Data columns (total 12 columns):\n",
            " #   Column         Non-Null Count  Dtype  \n",
            "---  ------         --------------  -----  \n",
            " 0   day            366 non-null    int64  \n",
            " 1   pressure       366 non-null    float64\n",
            " 2   maxtemp        366 non-null    float64\n",
            " 3   temparature    366 non-null    float64\n",
            " 4   mintemp        366 non-null    float64\n",
            " 5   dewpoint       366 non-null    float64\n",
            " 6   humidity       366 non-null    int64  \n",
            " 7   cloud          366 non-null    int64  \n",
            " 8   rainfall       366 non-null    object \n",
            " 9   sunshine       366 non-null    float64\n",
            " 10  winddirection  365 non-null    float64\n",
            " 11  windspeed      365 non-null    float64\n",
            "dtypes: float64(8), int64(3), object(1)\n",
            "memory usage: 34.4+ KB\n"
          ]
        }
      ],
      "source": [
        "print(\"Data Info:\")\n",
        "data.info()"
      ]
    },
    {
      "cell_type": "code",
      "execution_count": 13,
      "metadata": {
        "id": "0dF7Hh4El1KY"
      },
      "outputs": [],
      "source": [
        "data = data.drop(columns=[\"day\"])"
      ]
    },
    {
      "cell_type": "code",
      "execution_count": 14,
      "metadata": {
        "colab": {
          "base_uri": "https://localhost:8080/",
          "height": 206
        },
        "id": "GGKhxQmLmByn",
        "outputId": "352ce6d9-c862-461e-8479-412780ef062a"
      },
      "outputs": [
        {
          "data": {
            "text/html": [
              "<div>\n",
              "<style scoped>\n",
              "    .dataframe tbody tr th:only-of-type {\n",
              "        vertical-align: middle;\n",
              "    }\n",
              "\n",
              "    .dataframe tbody tr th {\n",
              "        vertical-align: top;\n",
              "    }\n",
              "\n",
              "    .dataframe thead th {\n",
              "        text-align: right;\n",
              "    }\n",
              "</style>\n",
              "<table border=\"1\" class=\"dataframe\">\n",
              "  <thead>\n",
              "    <tr style=\"text-align: right;\">\n",
              "      <th></th>\n",
              "      <th>pressure</th>\n",
              "      <th>maxtemp</th>\n",
              "      <th>temparature</th>\n",
              "      <th>mintemp</th>\n",
              "      <th>dewpoint</th>\n",
              "      <th>humidity</th>\n",
              "      <th>cloud</th>\n",
              "      <th>rainfall</th>\n",
              "      <th>sunshine</th>\n",
              "      <th>winddirection</th>\n",
              "      <th>windspeed</th>\n",
              "    </tr>\n",
              "  </thead>\n",
              "  <tbody>\n",
              "    <tr>\n",
              "      <th>0</th>\n",
              "      <td>1025.9</td>\n",
              "      <td>19.9</td>\n",
              "      <td>18.3</td>\n",
              "      <td>16.8</td>\n",
              "      <td>13.1</td>\n",
              "      <td>72</td>\n",
              "      <td>49</td>\n",
              "      <td>yes</td>\n",
              "      <td>9.3</td>\n",
              "      <td>80.0</td>\n",
              "      <td>26.3</td>\n",
              "    </tr>\n",
              "    <tr>\n",
              "      <th>1</th>\n",
              "      <td>1022.0</td>\n",
              "      <td>21.7</td>\n",
              "      <td>18.9</td>\n",
              "      <td>17.2</td>\n",
              "      <td>15.6</td>\n",
              "      <td>81</td>\n",
              "      <td>83</td>\n",
              "      <td>yes</td>\n",
              "      <td>0.6</td>\n",
              "      <td>50.0</td>\n",
              "      <td>15.3</td>\n",
              "    </tr>\n",
              "    <tr>\n",
              "      <th>2</th>\n",
              "      <td>1019.7</td>\n",
              "      <td>20.3</td>\n",
              "      <td>19.3</td>\n",
              "      <td>18.0</td>\n",
              "      <td>18.4</td>\n",
              "      <td>95</td>\n",
              "      <td>91</td>\n",
              "      <td>yes</td>\n",
              "      <td>0.0</td>\n",
              "      <td>40.0</td>\n",
              "      <td>14.2</td>\n",
              "    </tr>\n",
              "    <tr>\n",
              "      <th>3</th>\n",
              "      <td>1018.9</td>\n",
              "      <td>22.3</td>\n",
              "      <td>20.6</td>\n",
              "      <td>19.1</td>\n",
              "      <td>18.8</td>\n",
              "      <td>90</td>\n",
              "      <td>88</td>\n",
              "      <td>yes</td>\n",
              "      <td>1.0</td>\n",
              "      <td>50.0</td>\n",
              "      <td>16.9</td>\n",
              "    </tr>\n",
              "    <tr>\n",
              "      <th>4</th>\n",
              "      <td>1015.9</td>\n",
              "      <td>21.3</td>\n",
              "      <td>20.7</td>\n",
              "      <td>20.2</td>\n",
              "      <td>19.9</td>\n",
              "      <td>95</td>\n",
              "      <td>81</td>\n",
              "      <td>yes</td>\n",
              "      <td>0.0</td>\n",
              "      <td>40.0</td>\n",
              "      <td>13.7</td>\n",
              "    </tr>\n",
              "  </tbody>\n",
              "</table>\n",
              "</div>"
            ],
            "text/plain": [
              "   pressure  maxtemp  temparature  mintemp  dewpoint  humidity  cloud  \\\n",
              "0    1025.9     19.9         18.3     16.8      13.1        72     49   \n",
              "1    1022.0     21.7         18.9     17.2      15.6        81     83   \n",
              "2    1019.7     20.3         19.3     18.0      18.4        95     91   \n",
              "3    1018.9     22.3         20.6     19.1      18.8        90     88   \n",
              "4    1015.9     21.3         20.7     20.2      19.9        95     81   \n",
              "\n",
              "  rainfall  sunshine  winddirection  windspeed  \n",
              "0      yes       9.3           80.0       26.3  \n",
              "1      yes       0.6           50.0       15.3  \n",
              "2      yes       0.0           40.0       14.2  \n",
              "3      yes       1.0           50.0       16.9  \n",
              "4      yes       0.0           40.0       13.7  "
            ]
          },
          "execution_count": 14,
          "metadata": {},
          "output_type": "execute_result"
        }
      ],
      "source": [
        "data.head()"
      ]
    },
    {
      "cell_type": "code",
      "execution_count": 15,
      "metadata": {
        "colab": {
          "base_uri": "https://localhost:8080/"
        },
        "id": "6_IRIu7pmCp4",
        "outputId": "743caf8e-74a9-4510-8980-96c158893e0b"
      },
      "outputs": [
        {
          "name": "stdout",
          "output_type": "stream",
          "text": [
            "pressure         0\n",
            "maxtemp          0\n",
            "temparature      0\n",
            "mintemp          0\n",
            "dewpoint         0\n",
            "humidity         0\n",
            "cloud            0\n",
            "rainfall         0\n",
            "sunshine         0\n",
            "winddirection    1\n",
            "windspeed        1\n",
            "dtype: int64\n"
          ]
        }
      ],
      "source": [
        "# checking the number of missing values\n",
        "print(data.isnull().sum())"
      ]
    },
    {
      "cell_type": "code",
      "execution_count": 16,
      "metadata": {
        "colab": {
          "base_uri": "https://localhost:8080/"
        },
        "id": "FvsmvX3Tmn4v",
        "outputId": "bad551bf-5166-44ec-ea4b-47b2597d5057"
      },
      "outputs": [
        {
          "data": {
            "text/plain": [
              "array([ 80.,  50.,  40.,  20.,  30.,  60.,  70.,  10., 200., 220., 120.,\n",
              "       190., 210., 300., 240., 180., 230.,  90., 170., 150., 100., 130.,\n",
              "        nan, 160., 270., 280., 250., 260., 290., 350., 110., 140.])"
            ]
          },
          "execution_count": 16,
          "metadata": {},
          "output_type": "execute_result"
        }
      ],
      "source": [
        "data[\"winddirection\"].unique()"
      ]
    },
    {
      "cell_type": "code",
      "execution_count": 17,
      "metadata": {
        "id": "13ZNShNxmOAg"
      },
      "outputs": [],
      "source": [
        "# handle missing values\n",
        "data[\"winddirection\"] = data[\"winddirection\"].fillna(data[\"winddirection\"].mode()[0])\n",
        "data[\"windspeed\"] = data[\"windspeed\"].fillna(data[\"windspeed\"].median())"
      ]
    },
    {
      "cell_type": "code",
      "execution_count": 18,
      "metadata": {
        "colab": {
          "base_uri": "https://localhost:8080/"
        },
        "id": "8HzY4ygonLSB",
        "outputId": "f1035bf3-68dd-40f8-e67b-237c47a81ee0"
      },
      "outputs": [
        {
          "name": "stdout",
          "output_type": "stream",
          "text": [
            "pressure         0\n",
            "maxtemp          0\n",
            "temparature      0\n",
            "mintemp          0\n",
            "dewpoint         0\n",
            "humidity         0\n",
            "cloud            0\n",
            "rainfall         0\n",
            "sunshine         0\n",
            "winddirection    0\n",
            "windspeed        0\n",
            "dtype: int64\n"
          ]
        }
      ],
      "source": [
        "# checking the number of missing values\n",
        "print(data.isnull().sum())"
      ]
    },
    {
      "cell_type": "code",
      "execution_count": 19,
      "metadata": {
        "colab": {
          "base_uri": "https://localhost:8080/"
        },
        "id": "D7FrUna7nPus",
        "outputId": "8d7b7fd8-e45a-40ae-c892-e87892dab2bc"
      },
      "outputs": [
        {
          "data": {
            "text/plain": [
              "array(['yes', 'no'], dtype=object)"
            ]
          },
          "execution_count": 19,
          "metadata": {},
          "output_type": "execute_result"
        }
      ],
      "source": [
        "data[\"rainfall\"].unique()"
      ]
    },
    {
      "cell_type": "code",
      "execution_count": 20,
      "metadata": {
        "id": "tSOIPIyWnwKu"
      },
      "outputs": [],
      "source": [
        "# converting the yes & no to 1 and 0 respectively\n",
        "data[\"rainfall\"] = data[\"rainfall\"].map({\"yes\": 1, \"no\": 0})"
      ]
    },
    {
      "cell_type": "code",
      "execution_count": 21,
      "metadata": {
        "colab": {
          "base_uri": "https://localhost:8080/",
          "height": 206
        },
        "id": "C2V8TpLxn_5Z",
        "outputId": "a7062126-349b-420e-dc0a-ff43c686f8d0"
      },
      "outputs": [
        {
          "data": {
            "text/html": [
              "<div>\n",
              "<style scoped>\n",
              "    .dataframe tbody tr th:only-of-type {\n",
              "        vertical-align: middle;\n",
              "    }\n",
              "\n",
              "    .dataframe tbody tr th {\n",
              "        vertical-align: top;\n",
              "    }\n",
              "\n",
              "    .dataframe thead th {\n",
              "        text-align: right;\n",
              "    }\n",
              "</style>\n",
              "<table border=\"1\" class=\"dataframe\">\n",
              "  <thead>\n",
              "    <tr style=\"text-align: right;\">\n",
              "      <th></th>\n",
              "      <th>pressure</th>\n",
              "      <th>maxtemp</th>\n",
              "      <th>temparature</th>\n",
              "      <th>mintemp</th>\n",
              "      <th>dewpoint</th>\n",
              "      <th>humidity</th>\n",
              "      <th>cloud</th>\n",
              "      <th>rainfall</th>\n",
              "      <th>sunshine</th>\n",
              "      <th>winddirection</th>\n",
              "      <th>windspeed</th>\n",
              "    </tr>\n",
              "  </thead>\n",
              "  <tbody>\n",
              "    <tr>\n",
              "      <th>0</th>\n",
              "      <td>1025.9</td>\n",
              "      <td>19.9</td>\n",
              "      <td>18.3</td>\n",
              "      <td>16.8</td>\n",
              "      <td>13.1</td>\n",
              "      <td>72</td>\n",
              "      <td>49</td>\n",
              "      <td>1</td>\n",
              "      <td>9.3</td>\n",
              "      <td>80.0</td>\n",
              "      <td>26.3</td>\n",
              "    </tr>\n",
              "    <tr>\n",
              "      <th>1</th>\n",
              "      <td>1022.0</td>\n",
              "      <td>21.7</td>\n",
              "      <td>18.9</td>\n",
              "      <td>17.2</td>\n",
              "      <td>15.6</td>\n",
              "      <td>81</td>\n",
              "      <td>83</td>\n",
              "      <td>1</td>\n",
              "      <td>0.6</td>\n",
              "      <td>50.0</td>\n",
              "      <td>15.3</td>\n",
              "    </tr>\n",
              "    <tr>\n",
              "      <th>2</th>\n",
              "      <td>1019.7</td>\n",
              "      <td>20.3</td>\n",
              "      <td>19.3</td>\n",
              "      <td>18.0</td>\n",
              "      <td>18.4</td>\n",
              "      <td>95</td>\n",
              "      <td>91</td>\n",
              "      <td>1</td>\n",
              "      <td>0.0</td>\n",
              "      <td>40.0</td>\n",
              "      <td>14.2</td>\n",
              "    </tr>\n",
              "    <tr>\n",
              "      <th>3</th>\n",
              "      <td>1018.9</td>\n",
              "      <td>22.3</td>\n",
              "      <td>20.6</td>\n",
              "      <td>19.1</td>\n",
              "      <td>18.8</td>\n",
              "      <td>90</td>\n",
              "      <td>88</td>\n",
              "      <td>1</td>\n",
              "      <td>1.0</td>\n",
              "      <td>50.0</td>\n",
              "      <td>16.9</td>\n",
              "    </tr>\n",
              "    <tr>\n",
              "      <th>4</th>\n",
              "      <td>1015.9</td>\n",
              "      <td>21.3</td>\n",
              "      <td>20.7</td>\n",
              "      <td>20.2</td>\n",
              "      <td>19.9</td>\n",
              "      <td>95</td>\n",
              "      <td>81</td>\n",
              "      <td>1</td>\n",
              "      <td>0.0</td>\n",
              "      <td>40.0</td>\n",
              "      <td>13.7</td>\n",
              "    </tr>\n",
              "  </tbody>\n",
              "</table>\n",
              "</div>"
            ],
            "text/plain": [
              "   pressure  maxtemp  temparature  mintemp  dewpoint  humidity  cloud  \\\n",
              "0    1025.9     19.9         18.3     16.8      13.1        72     49   \n",
              "1    1022.0     21.7         18.9     17.2      15.6        81     83   \n",
              "2    1019.7     20.3         19.3     18.0      18.4        95     91   \n",
              "3    1018.9     22.3         20.6     19.1      18.8        90     88   \n",
              "4    1015.9     21.3         20.7     20.2      19.9        95     81   \n",
              "\n",
              "   rainfall  sunshine  winddirection  windspeed  \n",
              "0         1       9.3           80.0       26.3  \n",
              "1         1       0.6           50.0       15.3  \n",
              "2         1       0.0           40.0       14.2  \n",
              "3         1       1.0           50.0       16.9  \n",
              "4         1       0.0           40.0       13.7  "
            ]
          },
          "execution_count": 21,
          "metadata": {},
          "output_type": "execute_result"
        }
      ],
      "source": [
        "data.head()"
      ]
    },
    {
      "cell_type": "markdown",
      "metadata": {
        "id": "Zit4FaWyoHIY"
      },
      "source": [
        "**Exploratory Data Analysis (EDA)**"
      ]
    },
    {
      "cell_type": "code",
      "execution_count": 22,
      "metadata": {
        "colab": {
          "base_uri": "https://localhost:8080/"
        },
        "id": "87hXdZaNoBh4",
        "outputId": "ecdf5c08-2fa1-4f31-9f69-bd0d4a17cf27"
      },
      "outputs": [
        {
          "data": {
            "text/plain": [
              "(366, 11)"
            ]
          },
          "execution_count": 22,
          "metadata": {},
          "output_type": "execute_result"
        }
      ],
      "source": [
        "data.shape"
      ]
    },
    {
      "cell_type": "code",
      "execution_count": 65,
      "metadata": {
        "id": "gCEC7tmZoNXd"
      },
      "outputs": [],
      "source": [
        "# setting plot style for all the plots\n",
        "sns.set_theme(style=\"whitegrid\")"
      ]
    },
    {
      "cell_type": "code",
      "execution_count": 68,
      "metadata": {
        "colab": {
          "base_uri": "https://localhost:8080/",
          "height": 300
        },
        "id": "GBZvgcgNoZzE",
        "outputId": "5dfac88a-7d09-452c-fb07-41aa22a5af98"
      },
      "outputs": [
        {
          "data": {
            "text/html": [
              "<div>\n",
              "<style scoped>\n",
              "    .dataframe tbody tr th:only-of-type {\n",
              "        vertical-align: middle;\n",
              "    }\n",
              "\n",
              "    .dataframe tbody tr th {\n",
              "        vertical-align: top;\n",
              "    }\n",
              "\n",
              "    .dataframe thead th {\n",
              "        text-align: right;\n",
              "    }\n",
              "</style>\n",
              "<table border=\"1\" class=\"dataframe\">\n",
              "  <thead>\n",
              "    <tr style=\"text-align: right;\">\n",
              "      <th></th>\n",
              "      <th>pressure</th>\n",
              "      <th>dewpoint</th>\n",
              "      <th>humidity</th>\n",
              "      <th>cloud</th>\n",
              "      <th>rainfall</th>\n",
              "      <th>sunshine</th>\n",
              "      <th>winddirection</th>\n",
              "      <th>windspeed</th>\n",
              "    </tr>\n",
              "  </thead>\n",
              "  <tbody>\n",
              "    <tr>\n",
              "      <th>count</th>\n",
              "      <td>366.000000</td>\n",
              "      <td>366.000000</td>\n",
              "      <td>366.000000</td>\n",
              "      <td>366.000000</td>\n",
              "      <td>366.000000</td>\n",
              "      <td>366.000000</td>\n",
              "      <td>366.000000</td>\n",
              "      <td>366.000000</td>\n",
              "    </tr>\n",
              "    <tr>\n",
              "      <th>mean</th>\n",
              "      <td>1013.742623</td>\n",
              "      <td>19.989071</td>\n",
              "      <td>80.177596</td>\n",
              "      <td>71.128415</td>\n",
              "      <td>0.680328</td>\n",
              "      <td>4.419399</td>\n",
              "      <td>101.284153</td>\n",
              "      <td>21.534153</td>\n",
              "    </tr>\n",
              "    <tr>\n",
              "      <th>std</th>\n",
              "      <td>6.414776</td>\n",
              "      <td>5.997021</td>\n",
              "      <td>10.062470</td>\n",
              "      <td>21.798012</td>\n",
              "      <td>0.466988</td>\n",
              "      <td>3.934398</td>\n",
              "      <td>81.722827</td>\n",
              "      <td>10.056054</td>\n",
              "    </tr>\n",
              "    <tr>\n",
              "      <th>min</th>\n",
              "      <td>998.500000</td>\n",
              "      <td>-0.400000</td>\n",
              "      <td>36.000000</td>\n",
              "      <td>0.000000</td>\n",
              "      <td>0.000000</td>\n",
              "      <td>0.000000</td>\n",
              "      <td>10.000000</td>\n",
              "      <td>4.400000</td>\n",
              "    </tr>\n",
              "    <tr>\n",
              "      <th>25%</th>\n",
              "      <td>1008.500000</td>\n",
              "      <td>16.125000</td>\n",
              "      <td>75.000000</td>\n",
              "      <td>58.000000</td>\n",
              "      <td>0.000000</td>\n",
              "      <td>0.500000</td>\n",
              "      <td>40.000000</td>\n",
              "      <td>13.725000</td>\n",
              "    </tr>\n",
              "    <tr>\n",
              "      <th>50%</th>\n",
              "      <td>1013.000000</td>\n",
              "      <td>21.950000</td>\n",
              "      <td>80.500000</td>\n",
              "      <td>80.000000</td>\n",
              "      <td>1.000000</td>\n",
              "      <td>3.500000</td>\n",
              "      <td>70.000000</td>\n",
              "      <td>20.500000</td>\n",
              "    </tr>\n",
              "    <tr>\n",
              "      <th>75%</th>\n",
              "      <td>1018.100000</td>\n",
              "      <td>25.000000</td>\n",
              "      <td>87.000000</td>\n",
              "      <td>88.000000</td>\n",
              "      <td>1.000000</td>\n",
              "      <td>8.200000</td>\n",
              "      <td>190.000000</td>\n",
              "      <td>27.825000</td>\n",
              "    </tr>\n",
              "    <tr>\n",
              "      <th>max</th>\n",
              "      <td>1034.600000</td>\n",
              "      <td>26.700000</td>\n",
              "      <td>98.000000</td>\n",
              "      <td>100.000000</td>\n",
              "      <td>1.000000</td>\n",
              "      <td>12.100000</td>\n",
              "      <td>350.000000</td>\n",
              "      <td>59.500000</td>\n",
              "    </tr>\n",
              "  </tbody>\n",
              "</table>\n",
              "</div>"
            ],
            "text/plain": [
              "          pressure    dewpoint    humidity       cloud    rainfall  \\\n",
              "count   366.000000  366.000000  366.000000  366.000000  366.000000   \n",
              "mean   1013.742623   19.989071   80.177596   71.128415    0.680328   \n",
              "std       6.414776    5.997021   10.062470   21.798012    0.466988   \n",
              "min     998.500000   -0.400000   36.000000    0.000000    0.000000   \n",
              "25%    1008.500000   16.125000   75.000000   58.000000    0.000000   \n",
              "50%    1013.000000   21.950000   80.500000   80.000000    1.000000   \n",
              "75%    1018.100000   25.000000   87.000000   88.000000    1.000000   \n",
              "max    1034.600000   26.700000   98.000000  100.000000    1.000000   \n",
              "\n",
              "         sunshine  winddirection   windspeed  \n",
              "count  366.000000     366.000000  366.000000  \n",
              "mean     4.419399     101.284153   21.534153  \n",
              "std      3.934398      81.722827   10.056054  \n",
              "min      0.000000      10.000000    4.400000  \n",
              "25%      0.500000      40.000000   13.725000  \n",
              "50%      3.500000      70.000000   20.500000  \n",
              "75%      8.200000     190.000000   27.825000  \n",
              "max     12.100000     350.000000   59.500000  "
            ]
          },
          "execution_count": 68,
          "metadata": {},
          "output_type": "execute_result"
        }
      ],
      "source": [
        "data.describe()"
      ]
    },
    {
      "cell_type": "code",
      "execution_count": 25,
      "metadata": {
        "colab": {
          "base_uri": "https://localhost:8080/"
        },
        "id": "WmoVcnAQruf_",
        "outputId": "91ff58ef-57f8-4ad0-8a65-a68572002881"
      },
      "outputs": [
        {
          "data": {
            "text/plain": [
              "Index(['pressure', 'maxtemp', 'temparature', 'mintemp', 'dewpoint', 'humidity',\n",
              "       'cloud', 'rainfall', 'sunshine', 'winddirection', 'windspeed'],\n",
              "      dtype='object')"
            ]
          },
          "execution_count": 25,
          "metadata": {},
          "output_type": "execute_result"
        }
      ],
      "source": [
        "data.columns"
      ]
    },
    {
      "cell_type": "code",
      "execution_count": 27,
      "metadata": {
        "colab": {
          "base_uri": "https://localhost:8080/",
          "height": 862
        },
        "id": "XKf1029Qoeqa",
        "outputId": "0be42167-b92e-4459-ff3d-c139ada54a6a"
      },
      "outputs": [
        {
          "name": "stderr",
          "output_type": "stream",
          "text": [
            "c:\\Users\\rohan\\anaconda3\\Lib\\site-packages\\seaborn\\_oldcore.py:1119: FutureWarning: use_inf_as_na option is deprecated and will be removed in a future version. Convert inf values to NaN before operating instead.\n",
            "  with pd.option_context('mode.use_inf_as_na', True):\n",
            "c:\\Users\\rohan\\anaconda3\\Lib\\site-packages\\seaborn\\_oldcore.py:1119: FutureWarning: use_inf_as_na option is deprecated and will be removed in a future version. Convert inf values to NaN before operating instead.\n",
            "  with pd.option_context('mode.use_inf_as_na', True):\n",
            "c:\\Users\\rohan\\anaconda3\\Lib\\site-packages\\seaborn\\_oldcore.py:1119: FutureWarning: use_inf_as_na option is deprecated and will be removed in a future version. Convert inf values to NaN before operating instead.\n",
            "  with pd.option_context('mode.use_inf_as_na', True):\n",
            "c:\\Users\\rohan\\anaconda3\\Lib\\site-packages\\seaborn\\_oldcore.py:1119: FutureWarning: use_inf_as_na option is deprecated and will be removed in a future version. Convert inf values to NaN before operating instead.\n",
            "  with pd.option_context('mode.use_inf_as_na', True):\n",
            "c:\\Users\\rohan\\anaconda3\\Lib\\site-packages\\seaborn\\_oldcore.py:1119: FutureWarning: use_inf_as_na option is deprecated and will be removed in a future version. Convert inf values to NaN before operating instead.\n",
            "  with pd.option_context('mode.use_inf_as_na', True):\n",
            "c:\\Users\\rohan\\anaconda3\\Lib\\site-packages\\seaborn\\_oldcore.py:1119: FutureWarning: use_inf_as_na option is deprecated and will be removed in a future version. Convert inf values to NaN before operating instead.\n",
            "  with pd.option_context('mode.use_inf_as_na', True):\n",
            "c:\\Users\\rohan\\anaconda3\\Lib\\site-packages\\seaborn\\_oldcore.py:1119: FutureWarning: use_inf_as_na option is deprecated and will be removed in a future version. Convert inf values to NaN before operating instead.\n",
            "  with pd.option_context('mode.use_inf_as_na', True):\n",
            "c:\\Users\\rohan\\anaconda3\\Lib\\site-packages\\seaborn\\_oldcore.py:1119: FutureWarning: use_inf_as_na option is deprecated and will be removed in a future version. Convert inf values to NaN before operating instead.\n",
            "  with pd.option_context('mode.use_inf_as_na', True):\n",
            "c:\\Users\\rohan\\anaconda3\\Lib\\site-packages\\seaborn\\_oldcore.py:1119: FutureWarning: use_inf_as_na option is deprecated and will be removed in a future version. Convert inf values to NaN before operating instead.\n",
            "  with pd.option_context('mode.use_inf_as_na', True):\n"
          ]
        },
        {
          "data": {
            "image/png": "[encoded data removed]",
            "text/plain": [
              "<Figure size 1500x1000 with 9 Axes>"
            ]
          },
          "metadata": {},
          "output_type": "display_data"
        }
      ],
      "source": [
        "plt.figure(figsize=(15, 10))\n",
        "\n",
        "for i, column in enumerate(['pressure', 'maxtemp', 'temparature', 'mintemp', 'dewpoint', 'humidity','cloud', 'sunshine', 'windspeed'], 1):\n",
        "  plt.subplot(3, 3, i)\n",
        "  sns.histplot(data[column], kde=True)\n",
        "  plt.title(f\"Distribution of {column}\")\n",
        "\n",
        "plt.tight_layout()\n",
        "data.replace([np.inf, -np.inf], np.nan, inplace=True)\n",
        "plt.show()"
      ]
    },
    {
      "cell_type": "code",
      "execution_count": 28,
      "metadata": {
        "colab": {
          "base_uri": "https://localhost:8080/",
          "height": 419
        },
        "id": "ljGkqq0Ss2a8",
        "outputId": "32a6ca77-fffa-4724-a8e6-e3516bfab502"
      },
      "outputs": [
        {
          "data": {
            "image/png": "[encoded data removed]",
            "text/plain": [
              "<Figure size 600x400 with 1 Axes>"
            ]
          },
          "metadata": {},
          "output_type": "display_data"
        }
      ],
      "source": [
        "plt.figure(figsize=(6, 4))\n",
        "sns.countplot(x=\"rainfall\", data=data)\n",
        "plt.title(\"Distribution of Rainfall\")\n",
        "plt.show()"
      ]
    },
    {
      "cell_type": "code",
      "execution_count": 29,
      "metadata": {
        "colab": {
          "base_uri": "https://localhost:8080/",
          "height": 791
        },
        "id": "nOZiTVk6uDHN",
        "outputId": "e34441ee-72b8-491b-b593-b87e64e74ed9"
      },
      "outputs": [
        {
          "data": {
            "image/png": "[encoded data removed]",
            "text/plain": [
              "<Figure size 1000x800 with 2 Axes>"
            ]
          },
          "metadata": {},
          "output_type": "display_data"
        }
      ],
      "source": [
        "# correlation matrix\n",
        "plt.figure(figsize=(10, 8))\n",
        "sns.heatmap(data.corr(), annot=True, cmap=\"coolwarm\", fmt=\".2f\")\n",
        "plt.title(\"Correlation heatmap\")\n",
        "plt.show()"
      ]
    },
    {
      "cell_type": "code",
      "execution_count": 30,
      "metadata": {
        "colab": {
          "base_uri": "https://localhost:8080/",
          "height": 862
        },
        "id": "kgpXLXcwue3D",
        "outputId": "612d3624-f1fc-49b8-b277-0c689aa64144"
      },
      "outputs": [
        {
          "data": {
            "image/png": "[encoded data removed]",
            "text/plain": [
              "<Figure size 1500x1000 with 9 Axes>"
            ]
          },
          "metadata": {},
          "output_type": "display_data"
        }
      ],
      "source": [
        "plt.figure(figsize=(15, 10))\n",
        "\n",
        "for i, column in enumerate(['pressure', 'maxtemp', 'temparature', 'mintemp', 'dewpoint', 'humidity','cloud', 'sunshine', 'windspeed'], 1):\n",
        "  plt.subplot(3, 3, i)\n",
        "  sns.boxplot(data[column])\n",
        "  plt.title(f\"Boxplot of {column}\")\n",
        "\n",
        "plt.tight_layout()\n",
        "plt.show()"
      ]
    },
    {
      "cell_type": "markdown",
      "metadata": {
        "id": "8Ic4pF8cwBMH"
      },
      "source": [
        "**Data Preprocessing**"
      ]
    },
    {
      "cell_type": "code",
      "execution_count": null,
      "metadata": {
        "id": "TNnu6UwAvf72"
      },
      "outputs": [],
      "source": [
        "# drop highly correlated column\n",
        "data = data.drop(columns=['maxtemp', 'temparature', 'mintemp']) # as you see in correlation matrix these columns are highly correlated"
      ]
    },
    {
      "cell_type": "code",
      "execution_count": 32,
      "metadata": {
        "colab": {
          "base_uri": "https://localhost:8080/",
          "height": 206
        },
        "id": "RLMEus8ZwSBH",
        "outputId": "5ca436ee-f320-4c79-8963-22718908f1fb"
      },
      "outputs": [
        {
          "data": {
            "text/html": [
              "<div>\n",
              "<style scoped>\n",
              "    .dataframe tbody tr th:only-of-type {\n",
              "        vertical-align: middle;\n",
              "    }\n",
              "\n",
              "    .dataframe tbody tr th {\n",
              "        vertical-align: top;\n",
              "    }\n",
              "\n",
              "    .dataframe thead th {\n",
              "        text-align: right;\n",
              "    }\n",
              "</style>\n",
              "<table border=\"1\" class=\"dataframe\">\n",
              "  <thead>\n",
              "    <tr style=\"text-align: right;\">\n",
              "      <th></th>\n",
              "      <th>pressure</th>\n",
              "      <th>dewpoint</th>\n",
              "      <th>humidity</th>\n",
              "      <th>cloud</th>\n",
              "      <th>rainfall</th>\n",
              "      <th>sunshine</th>\n",
              "      <th>winddirection</th>\n",
              "      <th>windspeed</th>\n",
              "    </tr>\n",
              "  </thead>\n",
              "  <tbody>\n",
              "    <tr>\n",
              "      <th>0</th>\n",
              "      <td>1025.9</td>\n",
              "      <td>13.1</td>\n",
              "      <td>72</td>\n",
              "      <td>49</td>\n",
              "      <td>1</td>\n",
              "      <td>9.3</td>\n",
              "      <td>80.0</td>\n",
              "      <td>26.3</td>\n",
              "    </tr>\n",
              "    <tr>\n",
              "      <th>1</th>\n",
              "      <td>1022.0</td>\n",
              "      <td>15.6</td>\n",
              "      <td>81</td>\n",
              "      <td>83</td>\n",
              "      <td>1</td>\n",
              "      <td>0.6</td>\n",
              "      <td>50.0</td>\n",
              "      <td>15.3</td>\n",
              "    </tr>\n",
              "    <tr>\n",
              "      <th>2</th>\n",
              "      <td>1019.7</td>\n",
              "      <td>18.4</td>\n",
              "      <td>95</td>\n",
              "      <td>91</td>\n",
              "      <td>1</td>\n",
              "      <td>0.0</td>\n",
              "      <td>40.0</td>\n",
              "      <td>14.2</td>\n",
              "    </tr>\n",
              "    <tr>\n",
              "      <th>3</th>\n",
              "      <td>1018.9</td>\n",
              "      <td>18.8</td>\n",
              "      <td>90</td>\n",
              "      <td>88</td>\n",
              "      <td>1</td>\n",
              "      <td>1.0</td>\n",
              "      <td>50.0</td>\n",
              "      <td>16.9</td>\n",
              "    </tr>\n",
              "    <tr>\n",
              "      <th>4</th>\n",
              "      <td>1015.9</td>\n",
              "      <td>19.9</td>\n",
              "      <td>95</td>\n",
              "      <td>81</td>\n",
              "      <td>1</td>\n",
              "      <td>0.0</td>\n",
              "      <td>40.0</td>\n",
              "      <td>13.7</td>\n",
              "    </tr>\n",
              "  </tbody>\n",
              "</table>\n",
              "</div>"
            ],
            "text/plain": [
              "   pressure  dewpoint  humidity  cloud  rainfall  sunshine  winddirection  \\\n",
              "0    1025.9      13.1        72     49         1       9.3           80.0   \n",
              "1    1022.0      15.6        81     83         1       0.6           50.0   \n",
              "2    1019.7      18.4        95     91         1       0.0           40.0   \n",
              "3    1018.9      18.8        90     88         1       1.0           50.0   \n",
              "4    1015.9      19.9        95     81         1       0.0           40.0   \n",
              "\n",
              "   windspeed  \n",
              "0       26.3  \n",
              "1       15.3  \n",
              "2       14.2  \n",
              "3       16.9  \n",
              "4       13.7  "
            ]
          },
          "execution_count": 32,
          "metadata": {},
          "output_type": "execute_result"
        }
      ],
      "source": [
        "data.head()"
      ]
    },
    {
      "cell_type": "code",
      "execution_count": 33,
      "metadata": {
        "colab": {
          "base_uri": "https://localhost:8080/"
        },
        "id": "rvaWRILVzUy7",
        "outputId": "fad7b447-3269-4553-c3b4-ce3a254ae97f"
      },
      "outputs": [
        {
          "name": "stdout",
          "output_type": "stream",
          "text": [
            "rainfall\n",
            "1    249\n",
            "0    117\n",
            "Name: count, dtype: int64\n"
          ]
        }
      ],
      "source": [
        "print(data[\"rainfall\"].value_counts())"
      ]
    },
    {
      "cell_type": "code",
      "execution_count": 34,
      "metadata": {
        "id": "jqHvahpXwSx9"
      },
      "outputs": [],
      "source": [
        "# separate majority and minority class\n",
        "df_majority = data[data[\"rainfall\"] == 1]\n",
        "df_minority = data[data[\"rainfall\"] == 0]"
      ]
    },
    {
      "cell_type": "code",
      "execution_count": 35,
      "metadata": {
        "colab": {
          "base_uri": "https://localhost:8080/"
        },
        "id": "CIcP4uw3zz4j",
        "outputId": "88bcafb3-a9f8-48a3-8f41-ace64e9bf733"
      },
      "outputs": [
        {
          "name": "stdout",
          "output_type": "stream",
          "text": [
            "(249, 8)\n",
            "(117, 8)\n"
          ]
        }
      ],
      "source": [
        "print(df_majority.shape)\n",
        "print(df_minority.shape)"
      ]
    },
    {
      "cell_type": "code",
      "execution_count": null,
      "metadata": {
        "id": "laxjXe8jz5Eo"
      },
      "outputs": [],
      "source": [
        "# downsample majority class to match minority count\n",
        "df_majority_downsampled = resample(df_majority, replace=False, n_samples=len(df_minority), random_state=42) # we are using random downsampling method for this task to match the minority class count"
      ]
    },
    {
      "cell_type": "code",
      "execution_count": 37,
      "metadata": {
        "colab": {
          "base_uri": "https://localhost:8080/"
        },
        "id": "lIJKpKMt0V2f",
        "outputId": "adde9cc8-f1a5-4453-f460-eace9a791e23"
      },
      "outputs": [
        {
          "data": {
            "text/plain": [
              "(117, 8)"
            ]
          },
          "execution_count": 37,
          "metadata": {},
          "output_type": "execute_result"
        }
      ],
      "source": [
        "df_majority_downsampled.shape"
      ]
    },
    {
      "cell_type": "code",
      "execution_count": 38,
      "metadata": {
        "id": "kcMARKcQ0YbA"
      },
      "outputs": [],
      "source": [
        "df_downsampled = pd.concat([df_majority_downsampled, df_minority])"
      ]
    },
    {
      "cell_type": "code",
      "execution_count": 39,
      "metadata": {
        "colab": {
          "base_uri": "https://localhost:8080/"
        },
        "id": "TulqUXVb0jsg",
        "outputId": "3025c5bf-8f00-46f5-8514-7f79eaf918f5"
      },
      "outputs": [
        {
          "data": {
            "text/plain": [
              "(234, 8)"
            ]
          },
          "execution_count": 39,
          "metadata": {},
          "output_type": "execute_result"
        }
      ],
      "source": [
        "df_downsampled.shape"
      ]
    },
    {
      "cell_type": "code",
      "execution_count": 40,
      "metadata": {
        "colab": {
          "base_uri": "https://localhost:8080/",
          "height": 206
        },
        "id": "UHWgAd0R0lx_",
        "outputId": "f09735da-bff3-45ef-fb71-12cbcdb9b58c"
      },
      "outputs": [
        {
          "data": {
            "text/html": [
              "<div>\n",
              "<style scoped>\n",
              "    .dataframe tbody tr th:only-of-type {\n",
              "        vertical-align: middle;\n",
              "    }\n",
              "\n",
              "    .dataframe tbody tr th {\n",
              "        vertical-align: top;\n",
              "    }\n",
              "\n",
              "    .dataframe thead th {\n",
              "        text-align: right;\n",
              "    }\n",
              "</style>\n",
              "<table border=\"1\" class=\"dataframe\">\n",
              "  <thead>\n",
              "    <tr style=\"text-align: right;\">\n",
              "      <th></th>\n",
              "      <th>pressure</th>\n",
              "      <th>dewpoint</th>\n",
              "      <th>humidity</th>\n",
              "      <th>cloud</th>\n",
              "      <th>rainfall</th>\n",
              "      <th>sunshine</th>\n",
              "      <th>winddirection</th>\n",
              "      <th>windspeed</th>\n",
              "    </tr>\n",
              "  </thead>\n",
              "  <tbody>\n",
              "    <tr>\n",
              "      <th>188</th>\n",
              "      <td>1005.9</td>\n",
              "      <td>25.6</td>\n",
              "      <td>77</td>\n",
              "      <td>53</td>\n",
              "      <td>1</td>\n",
              "      <td>10.5</td>\n",
              "      <td>270.0</td>\n",
              "      <td>11.3</td>\n",
              "    </tr>\n",
              "    <tr>\n",
              "      <th>9</th>\n",
              "      <td>1017.5</td>\n",
              "      <td>15.5</td>\n",
              "      <td>85</td>\n",
              "      <td>91</td>\n",
              "      <td>1</td>\n",
              "      <td>0.0</td>\n",
              "      <td>70.0</td>\n",
              "      <td>37.7</td>\n",
              "    </tr>\n",
              "    <tr>\n",
              "      <th>137</th>\n",
              "      <td>1012.3</td>\n",
              "      <td>20.1</td>\n",
              "      <td>80</td>\n",
              "      <td>86</td>\n",
              "      <td>1</td>\n",
              "      <td>0.3</td>\n",
              "      <td>80.0</td>\n",
              "      <td>39.5</td>\n",
              "    </tr>\n",
              "    <tr>\n",
              "      <th>89</th>\n",
              "      <td>1018.3</td>\n",
              "      <td>16.3</td>\n",
              "      <td>79</td>\n",
              "      <td>89</td>\n",
              "      <td>1</td>\n",
              "      <td>2.4</td>\n",
              "      <td>40.0</td>\n",
              "      <td>14.8</td>\n",
              "    </tr>\n",
              "    <tr>\n",
              "      <th>157</th>\n",
              "      <td>1008.8</td>\n",
              "      <td>24.7</td>\n",
              "      <td>91</td>\n",
              "      <td>80</td>\n",
              "      <td>1</td>\n",
              "      <td>2.2</td>\n",
              "      <td>20.0</td>\n",
              "      <td>11.2</td>\n",
              "    </tr>\n",
              "  </tbody>\n",
              "</table>\n",
              "</div>"
            ],
            "text/plain": [
              "     pressure  dewpoint  humidity  cloud  rainfall  sunshine  winddirection  \\\n",
              "188    1005.9      25.6        77     53         1      10.5          270.0   \n",
              "9      1017.5      15.5        85     91         1       0.0           70.0   \n",
              "137    1012.3      20.1        80     86         1       0.3           80.0   \n",
              "89     1018.3      16.3        79     89         1       2.4           40.0   \n",
              "157    1008.8      24.7        91     80         1       2.2           20.0   \n",
              "\n",
              "     windspeed  \n",
              "188       11.3  \n",
              "9         37.7  \n",
              "137       39.5  \n",
              "89        14.8  \n",
              "157       11.2  "
            ]
          },
          "execution_count": 40,
          "metadata": {},
          "output_type": "execute_result"
        }
      ],
      "source": [
        "df_downsampled.head()"
      ]
    },
    {
      "cell_type": "code",
      "execution_count": 41,
      "metadata": {
        "id": "TwvmE4Gf0p5K"
      },
      "outputs": [],
      "source": [
        "# shuffle the final dataframe\n",
        "df_downsampled = df_downsampled.sample(frac=1, random_state=42).reset_index(drop=True)"
      ]
    },
    {
      "cell_type": "code",
      "execution_count": 42,
      "metadata": {
        "colab": {
          "base_uri": "https://localhost:8080/",
          "height": 206
        },
        "id": "dBFm9t5G06tO",
        "outputId": "6bce0c81-e876-4970-eccc-6113b44cb114"
      },
      "outputs": [
        {
          "data": {
            "text/html": [
              "<div>\n",
              "<style scoped>\n",
              "    .dataframe tbody tr th:only-of-type {\n",
              "        vertical-align: middle;\n",
              "    }\n",
              "\n",
              "    .dataframe tbody tr th {\n",
              "        vertical-align: top;\n",
              "    }\n",
              "\n",
              "    .dataframe thead th {\n",
              "        text-align: right;\n",
              "    }\n",
              "</style>\n",
              "<table border=\"1\" class=\"dataframe\">\n",
              "  <thead>\n",
              "    <tr style=\"text-align: right;\">\n",
              "      <th></th>\n",
              "      <th>pressure</th>\n",
              "      <th>dewpoint</th>\n",
              "      <th>humidity</th>\n",
              "      <th>cloud</th>\n",
              "      <th>rainfall</th>\n",
              "      <th>sunshine</th>\n",
              "      <th>winddirection</th>\n",
              "      <th>windspeed</th>\n",
              "    </tr>\n",
              "  </thead>\n",
              "  <tbody>\n",
              "    <tr>\n",
              "      <th>0</th>\n",
              "      <td>1022.2</td>\n",
              "      <td>14.1</td>\n",
              "      <td>78</td>\n",
              "      <td>90</td>\n",
              "      <td>1</td>\n",
              "      <td>0.0</td>\n",
              "      <td>30.0</td>\n",
              "      <td>28.5</td>\n",
              "    </tr>\n",
              "    <tr>\n",
              "      <th>1</th>\n",
              "      <td>1013.4</td>\n",
              "      <td>19.5</td>\n",
              "      <td>69</td>\n",
              "      <td>17</td>\n",
              "      <td>0</td>\n",
              "      <td>10.5</td>\n",
              "      <td>70.0</td>\n",
              "      <td>12.4</td>\n",
              "    </tr>\n",
              "    <tr>\n",
              "      <th>2</th>\n",
              "      <td>1006.1</td>\n",
              "      <td>24.4</td>\n",
              "      <td>74</td>\n",
              "      <td>27</td>\n",
              "      <td>0</td>\n",
              "      <td>10.8</td>\n",
              "      <td>220.0</td>\n",
              "      <td>8.7</td>\n",
              "    </tr>\n",
              "    <tr>\n",
              "      <th>3</th>\n",
              "      <td>1007.6</td>\n",
              "      <td>24.8</td>\n",
              "      <td>85</td>\n",
              "      <td>84</td>\n",
              "      <td>1</td>\n",
              "      <td>1.8</td>\n",
              "      <td>70.0</td>\n",
              "      <td>34.8</td>\n",
              "    </tr>\n",
              "    <tr>\n",
              "      <th>4</th>\n",
              "      <td>1021.2</td>\n",
              "      <td>8.4</td>\n",
              "      <td>66</td>\n",
              "      <td>18</td>\n",
              "      <td>0</td>\n",
              "      <td>10.1</td>\n",
              "      <td>20.0</td>\n",
              "      <td>24.4</td>\n",
              "    </tr>\n",
              "  </tbody>\n",
              "</table>\n",
              "</div>"
            ],
            "text/plain": [
              "   pressure  dewpoint  humidity  cloud  rainfall  sunshine  winddirection  \\\n",
              "0    1022.2      14.1        78     90         1       0.0           30.0   \n",
              "1    1013.4      19.5        69     17         0      10.5           70.0   \n",
              "2    1006.1      24.4        74     27         0      10.8          220.0   \n",
              "3    1007.6      24.8        85     84         1       1.8           70.0   \n",
              "4    1021.2       8.4        66     18         0      10.1           20.0   \n",
              "\n",
              "   windspeed  \n",
              "0       28.5  \n",
              "1       12.4  \n",
              "2        8.7  \n",
              "3       34.8  \n",
              "4       24.4  "
            ]
          },
          "execution_count": 42,
          "metadata": {},
          "output_type": "execute_result"
        }
      ],
      "source": [
        "df_downsampled.head()"
      ]
    },
    {
      "cell_type": "code",
      "execution_count": null,
      "metadata": {
        "colab": {
          "base_uri": "https://localhost:8080/",
          "height": 178
        },
        "id": "EMK-Lfiw08lg",
        "outputId": "3f7225a5-3510-4395-accd-fe0d4082404f"
      },
      "outputs": [
        {
          "data": {
            "text/plain": [
              "rainfall\n",
              "1    117\n",
              "0    117\n",
              "Name: count, dtype: int64"
            ]
          },
          "execution_count": 43,
          "metadata": {},
          "output_type": "execute_result"
        }
      ],
      "source": [
        "df_downsampled[\"rainfall\"].value_counts() # now the classes are balanced"
      ]
    },
    {
      "cell_type": "code",
      "execution_count": 44,
      "metadata": {
        "id": "i2v1OgbP1Pp3"
      },
      "outputs": [],
      "source": [
        "# split features and target as X and y\n",
        "X = df_downsampled.drop(columns=[\"rainfall\"])\n",
        "y = df_downsampled[\"rainfall\"]"
      ]
    },
    {
      "cell_type": "code",
      "execution_count": 45,
      "metadata": {
        "colab": {
          "base_uri": "https://localhost:8080/"
        },
        "id": "k8qcP1Hl1bZB",
        "outputId": "09b72628-271c-4263-8896-f8c56a556974"
      },
      "outputs": [
        {
          "name": "stdout",
          "output_type": "stream",
          "text": [
            "     pressure  dewpoint  humidity  cloud  sunshine  winddirection  windspeed\n",
            "0      1022.2      14.1        78     90       0.0           30.0       28.5\n",
            "1      1013.4      19.5        69     17      10.5           70.0       12.4\n",
            "2      1006.1      24.4        74     27      10.8          220.0        8.7\n",
            "3      1007.6      24.8        85     84       1.8           70.0       34.8\n",
            "4      1021.2       8.4        66     18      10.1           20.0       24.4\n",
            "..        ...       ...       ...    ...       ...            ...        ...\n",
            "229    1008.1      25.4        86     75       5.7           20.0        9.5\n",
            "230    1010.1      19.9        91     89       0.0           70.0       31.8\n",
            "231    1020.6      14.7        91     88       0.3           50.0       24.4\n",
            "232    1008.3      24.1        74     29       5.7           10.0        4.4\n",
            "233    1005.0      26.1        87     82       2.2          160.0       12.6\n",
            "\n",
            "[234 rows x 7 columns]\n"
          ]
        }
      ],
      "source": [
        "print(X)"
      ]
    },
    {
      "cell_type": "code",
      "execution_count": 46,
      "metadata": {
        "colab": {
          "base_uri": "https://localhost:8080/"
        },
        "id": "06ZSSjt51egt",
        "outputId": "b02f0d9b-c278-45be-80ca-98a6f956d6cd"
      },
      "outputs": [
        {
          "name": "stdout",
          "output_type": "stream",
          "text": [
            "0      1\n",
            "1      0\n",
            "2      0\n",
            "3      1\n",
            "4      0\n",
            "      ..\n",
            "229    1\n",
            "230    1\n",
            "231    1\n",
            "232    0\n",
            "233    1\n",
            "Name: rainfall, Length: 234, dtype: int64\n"
          ]
        }
      ],
      "source": [
        "print(y)"
      ]
    },
    {
      "cell_type": "code",
      "execution_count": 47,
      "metadata": {
        "id": "b4ZdLLo60_xw"
      },
      "outputs": [],
      "source": [
        "# splitting the data into training data and test data\n",
        "X_train, X_test, y_train, y_test = train_test_split(X, y, test_size=0.2, random_state=42)"
      ]
    },
    {
      "cell_type": "markdown",
      "metadata": {
        "id": "CIq-XcGb3XHI"
      },
      "source": [
        "**Model Training**"
      ]
    },
    {
      "cell_type": "code",
      "execution_count": 48,
      "metadata": {
        "id": "LWZRKC9Q20Jm"
      },
      "outputs": [],
      "source": [
        "rf_model = RandomForestClassifier(random_state=42)\n",
        "\n",
        "param_grid_rf = {\n",
        "    \"n_estimators\": [50, 100, 200],\n",
        "    \"max_features\": [\"sqrt\", \"log2\"],\n",
        "    \"max_depth\": [None, 10, 20, 30],\n",
        "    \"min_samples_split\": [2, 5, 10],\n",
        "    \"min_samples_leaf\": [1, 2, 4]\n",
        "}"
      ]
    },
    {
      "cell_type": "code",
      "execution_count": 49,
      "metadata": {
        "colab": {
          "base_uri": "https://localhost:8080/",
          "height": 151
        },
        "id": "rt-f_FBu3Tax",
        "outputId": "f525177d-28dc-45e4-9346-bbdf75cfa2ec"
      },
      "outputs": [
        {
          "name": "stdout",
          "output_type": "stream",
          "text": [
            "Fitting 5 folds for each of 216 candidates, totalling 1080 fits\n"
          ]
        },
        {
          "data": {
            "text/html": [
              "<style>#sk-container-id-1 {color: black;background-color: white;}#sk-container-id-1 pre{padding: 0;}#sk-container-id-1 div.sk-toggleable {background-color: white;}#sk-container-id-1 label.sk-toggleable__label {cursor: pointer;display: block;width: 100%;margin-bottom: 0;padding: 0.3em;box-sizing: border-box;text-align: center;}#sk-container-id-1 label.sk-toggleable__label-arrow:before {content: \"▸\";float: left;margin-right: 0.25em;color: #696969;}#sk-container-id-1 label.sk-toggleable__label-arrow:hover:before {color: black;}#sk-container-id-1 div.sk-estimator:hover label.sk-toggleable__label-arrow:before {color: black;}#sk-container-id-1 div.sk-toggleable__content {max-height: 0;max-width: 0;overflow: hidden;text-align: left;background-color: #f0f8ff;}#sk-container-id-1 div.sk-toggleable__content pre {margin: 0.2em;color: black;border-radius: 0.25em;background-color: #f0f8ff;}#sk-container-id-1 input.sk-toggleable__control:checked~div.sk-toggleable__content {max-height: 200px;max-width: 100%;overflow: auto;}#sk-container-id-1 input.sk-toggleable__control:checked~label.sk-toggleable__label-arrow:before {content: \"▾\";}#sk-container-id-1 div.sk-estimator input.sk-toggleable__control:checked~label.sk-toggleable__label {background-color: #d4ebff;}#sk-container-id-1 div.sk-label input.sk-toggleable__control:checked~label.sk-toggleable__label {background-color: #d4ebff;}#sk-container-id-1 input.sk-hidden--visually {border: 0;clip: rect(1px 1px 1px 1px);clip: rect(1px, 1px, 1px, 1px);height: 1px;margin: -1px;overflow: hidden;padding: 0;position: absolute;width: 1px;}#sk-container-id-1 div.sk-estimator {font-family: monospace;background-color: #f0f8ff;border: 1px dotted black;border-radius: 0.25em;box-sizing: border-box;margin-bottom: 0.5em;}#sk-container-id-1 div.sk-estimator:hover {background-color: #d4ebff;}#sk-container-id-1 div.sk-parallel-item::after {content: \"\";width: 100%;border-bottom: 1px solid gray;flex-grow: 1;}#sk-container-id-1 div.sk-label:hover label.sk-toggleable__label {background-color: #d4ebff;}#sk-container-id-1 div.sk-serial::before {content: \"\";position: absolute;border-left: 1px solid gray;box-sizing: border-box;top: 0;bottom: 0;left: 50%;z-index: 0;}#sk-container-id-1 div.sk-serial {display: flex;flex-direction: column;align-items: center;background-color: white;padding-right: 0.2em;padding-left: 0.2em;position: relative;}#sk-container-id-1 div.sk-item {position: relative;z-index: 1;}#sk-container-id-1 div.sk-parallel {display: flex;align-items: stretch;justify-content: center;background-color: white;position: relative;}#sk-container-id-1 div.sk-item::before, #sk-container-id-1 div.sk-parallel-item::before {content: \"\";position: absolute;border-left: 1px solid gray;box-sizing: border-box;top: 0;bottom: 0;left: 50%;z-index: -1;}#sk-container-id-1 div.sk-parallel-item {display: flex;flex-direction: column;z-index: 1;position: relative;background-color: white;}#sk-container-id-1 div.sk-parallel-item:first-child::after {align-self: flex-end;width: 50%;}#sk-container-id-1 div.sk-parallel-item:last-child::after {align-self: flex-start;width: 50%;}#sk-container-id-1 div.sk-parallel-item:only-child::after {width: 0;}#sk-container-id-1 div.sk-dashed-wrapped {border: 1px dashed gray;margin: 0 0.4em 0.5em 0.4em;box-sizing: border-box;padding-bottom: 0.4em;background-color: white;}#sk-container-id-1 div.sk-label label {font-family: monospace;font-weight: bold;display: inline-block;line-height: 1.2em;}#sk-container-id-1 div.sk-label-container {text-align: center;}#sk-container-id-1 div.sk-container {/* jupyter's `normalize.less` sets `[hidden] { display: none; }` but bootstrap.min.css set `[hidden] { display: none !important; }` so we also need the `!important` here to be able to override the default hidden behavior on the sphinx rendered scikit-learn.org. See: https://github.com/scikit-learn/scikit-learn/issues/21755 */display: inline-block !important;position: relative;}#sk-container-id-1 div.sk-text-repr-fallback {display: none;}</style><div id=\"sk-container-id-1\" class=\"sk-top-container\"><div class=\"sk-text-repr-fallback\"><pre>GridSearchCV(cv=5, estimator=RandomForestClassifier(random_state=42), n_jobs=-1,\n",
              "             param_grid={&#x27;max_depth&#x27;: [None, 10, 20, 30],\n",
              "                         &#x27;max_features&#x27;: [&#x27;sqrt&#x27;, &#x27;log2&#x27;],\n",
              "                         &#x27;min_samples_leaf&#x27;: [1, 2, 4],\n",
              "                         &#x27;min_samples_split&#x27;: [2, 5, 10],\n",
              "                         &#x27;n_estimators&#x27;: [50, 100, 200]},\n",
              "             verbose=2)</pre><b>In a Jupyter environment, please rerun this cell to show the HTML representation or trust the notebook. <br />On GitHub, the HTML representation is unable to render, please try loading this page with nbviewer.org.</b></div><div class=\"sk-container\" hidden><div class=\"sk-item sk-dashed-wrapped\"><div class=\"sk-label-container\"><div class=\"sk-label sk-toggleable\"><input class=\"sk-toggleable__control sk-hidden--visually\" id=\"sk-estimator-id-1\" type=\"checkbox\" ><label for=\"sk-estimator-id-1\" class=\"sk-toggleable__label sk-toggleable__label-arrow\">GridSearchCV</label><div class=\"sk-toggleable__content\"><pre>GridSearchCV(cv=5, estimator=RandomForestClassifier(random_state=42), n_jobs=-1,\n",
              "             param_grid={&#x27;max_depth&#x27;: [None, 10, 20, 30],\n",
              "                         &#x27;max_features&#x27;: [&#x27;sqrt&#x27;, &#x27;log2&#x27;],\n",
              "                         &#x27;min_samples_leaf&#x27;: [1, 2, 4],\n",
              "                         &#x27;min_samples_split&#x27;: [2, 5, 10],\n",
              "                         &#x27;n_estimators&#x27;: [50, 100, 200]},\n",
              "             verbose=2)</pre></div></div></div><div class=\"sk-parallel\"><div class=\"sk-parallel-item\"><div class=\"sk-item\"><div class=\"sk-label-container\"><div class=\"sk-label sk-toggleable\"><input class=\"sk-toggleable__control sk-hidden--visually\" id=\"sk-estimator-id-2\" type=\"checkbox\" ><label for=\"sk-estimator-id-2\" class=\"sk-toggleable__label sk-toggleable__label-arrow\">estimator: RandomForestClassifier</label><div class=\"sk-toggleable__content\"><pre>RandomForestClassifier(random_state=42)</pre></div></div></div><div class=\"sk-serial\"><div class=\"sk-item\"><div class=\"sk-estimator sk-toggleable\"><input class=\"sk-toggleable__control sk-hidden--visually\" id=\"sk-estimator-id-3\" type=\"checkbox\" ><label for=\"sk-estimator-id-3\" class=\"sk-toggleable__label sk-toggleable__label-arrow\">RandomForestClassifier</label><div class=\"sk-toggleable__content\"><pre>RandomForestClassifier(random_state=42)</pre></div></div></div></div></div></div></div></div></div></div>"
            ],
            "text/plain": [
              "GridSearchCV(cv=5, estimator=RandomForestClassifier(random_state=42), n_jobs=-1,\n",
              "             param_grid={'max_depth': [None, 10, 20, 30],\n",
              "                         'max_features': ['sqrt', 'log2'],\n",
              "                         'min_samples_leaf': [1, 2, 4],\n",
              "                         'min_samples_split': [2, 5, 10],\n",
              "                         'n_estimators': [50, 100, 200]},\n",
              "             verbose=2)"
            ]
          },
          "execution_count": 49,
          "metadata": {},
          "output_type": "execute_result"
        }
      ],
      "source": [
        "# Hypertuning using GridSearchCV\n",
        "grid_search_rf = GridSearchCV(estimator=rf_model, param_grid=param_grid_rf, cv=5, n_jobs=-1, verbose=2)\n",
        "\n",
        "grid_search_rf.fit(X_train, y_train)"
      ]
    },
    {
      "cell_type": "code",
      "execution_count": 50,
      "metadata": {
        "colab": {
          "base_uri": "https://localhost:8080/"
        },
        "id": "7aVDOZZ938cM",
        "outputId": "34806e16-42f0-463f-8e34-1d7c58dc3bee"
      },
      "outputs": [
        {
          "name": "stdout",
          "output_type": "stream",
          "text": [
            "best parameters for Random Forest: {'max_depth': None, 'max_features': 'sqrt', 'min_samples_leaf': 1, 'min_samples_split': 10, 'n_estimators': 50}\n"
          ]
        }
      ],
      "source": [
        "best_rf_model = grid_search_rf.best_estimator_\n",
        "\n",
        "print(\"best parameters for Random Forest:\", grid_search_rf.best_params_)"
      ]
    },
    {
      "cell_type": "markdown",
      "metadata": {
        "id": "99CaTZLp4oWV"
      },
      "source": [
        "**Model Evaluation**"
      ]
    },
    {
      "cell_type": "code",
      "execution_count": 51,
      "metadata": {
        "colab": {
          "base_uri": "https://localhost:8080/"
        },
        "id": "2Sj1BJbm4eUZ",
        "outputId": "b7e3f50e-2e14-4194-9581-e4f3ef4b67be"
      },
      "outputs": [
        {
          "name": "stdout",
          "output_type": "stream",
          "text": [
            "Cross-validation scores: [0.68421053 0.81578947 0.83783784 0.83783784 0.91891892]\n",
            "Mean cross-validation score: 0.818918918918919\n"
          ]
        }
      ],
      "source": [
        "cv_scores = cross_val_score(best_rf_model, X_train, y_train, cv=5)\n",
        "print(\"Cross-validation scores:\", cv_scores)\n",
        "print(\"Mean cross-validation score:\", np.mean(cv_scores))"
      ]
    },
    {
      "cell_type": "code",
      "execution_count": 52,
      "metadata": {
        "colab": {
          "base_uri": "https://localhost:8080/"
        },
        "id": "WW5LcHnc5ZvK",
        "outputId": "ea7101f3-e6b9-4701-9e80-b7c5084847ad"
      },
      "outputs": [
        {
          "name": "stdout",
          "output_type": "stream",
          "text": [
            "Test set Accuracy: 0.7446808510638298\n",
            "Test set Confusion Matrix:\n",
            " [[17  7]\n",
            " [ 5 18]]\n",
            "Classification Report:\n",
            "               precision    recall  f1-score   support\n",
            "\n",
            "           0       0.77      0.71      0.74        24\n",
            "           1       0.72      0.78      0.75        23\n",
            "\n",
            "    accuracy                           0.74        47\n",
            "   macro avg       0.75      0.75      0.74        47\n",
            "weighted avg       0.75      0.74      0.74        47\n",
            "\n"
          ]
        }
      ],
      "source": [
        "# test set performance\n",
        "y_pred = best_rf_model.predict(X_test)\n",
        "\n",
        "print(\"Test set Accuracy:\", accuracy_score(y_test, y_pred))\n",
        "print(\"Test set Confusion Matrix:\\n\", confusion_matrix(y_test, y_pred))\n",
        "print(\"Classification Report:\\n\", classification_report(y_test, y_pred))"
      ]
    },
    {
      "cell_type": "markdown",
      "metadata": {
        "id": "Na_n6PId6Dmn"
      },
      "source": [
        "**Prediction on unknown data**"
      ]
    },
    {
      "cell_type": "code",
      "execution_count": 53,
      "metadata": {
        "id": "bMCgSQh95tlQ"
      },
      "outputs": [],
      "source": [
        "input_data = (1015.9, 19.9, 95, 81, 0.0, 40.0, 13.7)\n",
        "\n",
        "input_df = pd.DataFrame([input_data], columns=['pressure', 'dewpoint', 'humidity', 'cloud', 'sunshine','winddirection', 'windspeed'])"
      ]
    },
    {
      "cell_type": "code",
      "execution_count": 54,
      "metadata": {
        "colab": {
          "base_uri": "https://localhost:8080/",
          "height": 89
        },
        "id": "LIMsmZnb6hcG",
        "outputId": "0b7eefcd-5715-4a87-8e1a-2b98f83f96c7"
      },
      "outputs": [
        {
          "data": {
            "text/html": [
              "<div>\n",
              "<style scoped>\n",
              "    .dataframe tbody tr th:only-of-type {\n",
              "        vertical-align: middle;\n",
              "    }\n",
              "\n",
              "    .dataframe tbody tr th {\n",
              "        vertical-align: top;\n",
              "    }\n",
              "\n",
              "    .dataframe thead th {\n",
              "        text-align: right;\n",
              "    }\n",
              "</style>\n",
              "<table border=\"1\" class=\"dataframe\">\n",
              "  <thead>\n",
              "    <tr style=\"text-align: right;\">\n",
              "      <th></th>\n",
              "      <th>pressure</th>\n",
              "      <th>dewpoint</th>\n",
              "      <th>humidity</th>\n",
              "      <th>cloud</th>\n",
              "      <th>sunshine</th>\n",
              "      <th>winddirection</th>\n",
              "      <th>windspeed</th>\n",
              "    </tr>\n",
              "  </thead>\n",
              "  <tbody>\n",
              "    <tr>\n",
              "      <th>0</th>\n",
              "      <td>1015.9</td>\n",
              "      <td>19.9</td>\n",
              "      <td>95</td>\n",
              "      <td>81</td>\n",
              "      <td>0.0</td>\n",
              "      <td>40.0</td>\n",
              "      <td>13.7</td>\n",
              "    </tr>\n",
              "  </tbody>\n",
              "</table>\n",
              "</div>"
            ],
            "text/plain": [
              "   pressure  dewpoint  humidity  cloud  sunshine  winddirection  windspeed\n",
              "0    1015.9      19.9        95     81       0.0           40.0       13.7"
            ]
          },
          "execution_count": 54,
          "metadata": {},
          "output_type": "execute_result"
        }
      ],
      "source": [
        "input_df"
      ]
    },
    {
      "cell_type": "code",
      "execution_count": 55,
      "metadata": {
        "id": "cDJNgnHF7GNc"
      },
      "outputs": [],
      "source": [
        "prediction = best_rf_model.predict(input_df)"
      ]
    },
    {
      "cell_type": "code",
      "execution_count": 56,
      "metadata": {
        "colab": {
          "base_uri": "https://localhost:8080/"
        },
        "id": "hxOl-o5L7GKv",
        "outputId": "8319c92e-a652-42be-e785-773a35cdc4f7"
      },
      "outputs": [
        {
          "name": "stdout",
          "output_type": "stream",
          "text": [
            "[1]\n"
          ]
        }
      ],
      "source": [
        "print(prediction)"
      ]
    },
    {
      "cell_type": "code",
      "execution_count": 57,
      "metadata": {
        "colab": {
          "base_uri": "https://localhost:8080/"
        },
        "id": "v9PluHKv7JsG",
        "outputId": "7c437001-c648-4a38-888a-8a5922baa179"
      },
      "outputs": [
        {
          "data": {
            "text/plain": [
              "1"
            ]
          },
          "execution_count": 57,
          "metadata": {},
          "output_type": "execute_result"
        }
      ],
      "source": [
        "prediction[0]"
      ]
    },
    {
      "cell_type": "code",
      "execution_count": 58,
      "metadata": {
        "colab": {
          "base_uri": "https://localhost:8080/"
        },
        "id": "BOjqouBN6ihz",
        "outputId": "ce1170d5-180e-4a13-8ba1-52f67be3f064"
      },
      "outputs": [
        {
          "name": "stdout",
          "output_type": "stream",
          "text": [
            "Prediction result: Rainfall\n"
          ]
        }
      ],
      "source": [
        "prediction = best_rf_model.predict(input_df)\n",
        "print(\"Prediction result:\", \"Rainfall\" if prediction[0] == 1 else \"No Rainfall\")"
      ]
    },
    {
      "cell_type": "code",
      "execution_count": 59,
      "metadata": {
        "id": "bsJR2Kz47FEv"
      },
      "outputs": [],
      "source": [
        "# save model and feature names to a pickle file\n",
        "model_data = {\"model\": best_rf_model, \"feature_names\": X.columns.tolist()}\n",
        "\n",
        "with open(\"rainfall_prediction_model.pkl\", \"wb\") as file:\n",
        "  pickle.dump(model_data, file)"
      ]
    },
    {
      "cell_type": "markdown",
      "metadata": {
        "id": "D69tJr-z76J4"
      },
      "source": [
        "**Load the saved model and file and use it for prediction**"
      ]
    },
    {
      "cell_type": "code",
      "execution_count": 60,
      "metadata": {
        "id": "Lfzzq7Ea7rsi"
      },
      "outputs": [],
      "source": [
        "import pickle\n",
        "import pandas as pd"
      ]
    },
    {
      "cell_type": "code",
      "execution_count": 61,
      "metadata": {
        "id": "i7XSWrIT8CSK"
      },
      "outputs": [],
      "source": [
        "# load the trained model and feature names from the pickle file\n",
        "with open(\"rainfall_prediction_model.pkl\", \"rb\") as file:\n",
        "  model_data = pickle.load(file)"
      ]
    },
    {
      "cell_type": "code",
      "execution_count": 62,
      "metadata": {
        "id": "zjUUrlal8LuA"
      },
      "outputs": [],
      "source": [
        "model = model_data[\"model\"]\n",
        "feature_names = model_data[\"feature_names\"]"
      ]
    },
    {
      "cell_type": "code",
      "execution_count": 63,
      "metadata": {
        "id": "xYximjll8ThL"
      },
      "outputs": [],
      "source": [
        "input_data = (1015.9, 19.9, 95, 81, 0.0, 40.0, 13.7)\n",
        "\n",
        "input_df = pd.DataFrame([input_data], columns=feature_names)"
      ]
    },
    {
      "cell_type": "code",
      "execution_count": 64,
      "metadata": {
        "colab": {
          "base_uri": "https://localhost:8080/"
        },
        "id": "-4wThCd08dgR",
        "outputId": "a4d9a4ac-009a-4483-8a12-5891391d214b"
      },
      "outputs": [
        {
          "name": "stdout",
          "output_type": "stream",
          "text": [
            "Prediction result: Rainfall\n"
          ]
        }
      ],
      "source": [
        "prediction = best_rf_model.predict(input_df)\n",
        "print(\"Prediction result:\", \"Rainfall\" if prediction[0] == 1 else \"No Rainfall\")"
      ]
    },
    {
      "cell_type": "code",
      "execution_count": null,
      "metadata": {
        "id": "shCCUs0-8gBL"
      },
      "outputs": [],
      "source": []
    },
    {
      "cell_type": "markdown",
      "metadata": {
        "id": "CaJat3C38uo4"
      },
      "source": [
        "**To Try:**\n",
        "1. SMOTE for class balancing\n",
        "2. PCA for dimensionality reduction\n",
        "3. Simpler models like Logistic Regression (with Feature scaling)\n",
        "4. Model Selection with hyperparameter tuning"
      ]
    },
    {
      "cell_type": "code",
      "execution_count": null,
      "metadata": {
        "id": "sn1omU-s8uKN"
      },
      "outputs": [],
      "source": []
    },
    {
      "cell_type": "code",
      "execution_count": null,
      "metadata": {
        "id": "_a3euO8o8uHf"
      },
      "outputs": [],
      "source": []
    }
  ],
  "metadata": {
    "colab": {
      "provenance": []
    },
    "kernelspec": {
      "display_name": "base",
      "language": "python",
      "name": "python3"
    },
    "language_info": {
      "codemirror_mode": {
        "name": "ipython",
        "version": 3
      },
      "file_extension": ".py",
      "mimetype": "text/x-python",
      "name": "python",
      "nbconvert_exporter": "python",
      "pygments_lexer": "ipython3",
      "version": "3.11.7"
    }
  },
  "nbformat": 4,
  "nbformat_minor": 0
}
